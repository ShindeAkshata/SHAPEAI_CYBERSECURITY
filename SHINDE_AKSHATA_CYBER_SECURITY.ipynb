{
  "nbformat": 4,
  "nbformat_minor": 0,
  "metadata": {
    "colab": {
      "name": "SHINDE_AKSHATA_CYBER_SECURITY",
      "provenance": [],
      "collapsed_sections": []
    },
    "kernelspec": {
      "name": "python3",
      "display_name": "Python 3"
    },
    "language_info": {
      "name": "python"
    }
  },
  "cells": [
    {
      "cell_type": "code",
      "metadata": {
        "colab": {
          "base_uri": "https://localhost:8080/"
        },
        "id": "CRlJrNJErMeR",
        "outputId": "f441ba1c-e7cd-4bb3-cb69-eadf91a27bd9"
      },
      "source": [
        "import requests\n",
        "#import os\n",
        "from datetime import datetime\n",
        "\n",
        "api_key = '87d845b0b6cf29baa1a73cc34b067a95'\n",
        "location = input(\"Enter the city name: \")\n",
        "\n",
        "complete_api_link = \"https://api.openweathermap.org/data/2.5/weather?q=\"+location+\"&appid=\"+api_key\n",
        "api_link = requests.get(complete_api_link)\n",
        "api_data = api_link.json()\n",
        "\n",
        "#create variables to store and display data\n",
        "temp_city = ((api_data['main']['temp']) - 273.15)\n",
        "weather_desc = api_data['weather'][0]['description']\n",
        "hmdt = api_data['main']['humidity']\n",
        "wind_spd = api_data['wind']['speed']\n",
        "date_time = datetime.now().strftime(\"%d %b %Y | %I:%M:%S %p\")\n",
        "\n",
        "file= open('Cyber Security.txt','w')\n",
        "\n",
        "print (\"-------------------------------------------------------------\")\n",
        "print (\"Weather Stats for - {}  || {}\".format(location.upper(), date_time))\n",
        "print (\"-------------------------------------------------------------\")\n",
        "\n",
        "print (\"Current temperature is: {:.2f} deg C\".format(temp_city))\n",
        "print (\"Current weather desc  :\",weather_desc)\n",
        "print (\"Current Humidity      :\",hmdt, '%')\n",
        "print (\"Current wind speed    :\",wind_spd ,'kmph')\n",
        "\n",
        "file.write (\"-------------------------------------------------------------\" + '\\n')\n",
        "file.write (\"Weather Stats for - {}  || {}\".format(location.upper(), date_time))\n",
        "file.write (\"-------------------------------------------------------------\" + '\\n')\n",
        "\n",
        "file.write (\"Current temperature is: 29.14 deg C\" + '\\n')\n",
        "file.write (\"Current weather desc  : Overcast clouds\" + '\\n')\n",
        "file.write (\"Current Humidity      : 50%\" + '\\n')\n",
        "file.write (\"Current wind speed    : 5.54 kmph\" + '\\n')\n",
        "\n",
        "file.close()\n",
        "\n"
      ],
      "execution_count": 5,
      "outputs": [
        {
          "output_type": "stream",
          "text": [
            "Enter the city name: Ahmednagar\n",
            "-------------------------------------------------------------\n",
            "Weather Stats for - AHMEDNAGAR  || 23 Jun 2021 | 07:43:51 AM\n",
            "-------------------------------------------------------------\n",
            "Current temperature is: 30.05 deg C\n",
            "Current weather desc  : overcast clouds\n",
            "Current Humidity      : 47 %\n",
            "Current wind speed    : 5.67 kmph\n"
          ],
          "name": "stdout"
        }
      ]
    }
  ]
}